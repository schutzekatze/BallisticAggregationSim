{
 "cells": [
  {
   "cell_type": "code",
   "execution_count": 1,
   "metadata": {},
   "outputs": [
    {
     "data": {
      "application/javascript": [
       "require.undef(\"nbextensions/vpython_libraries/glow.min\");"
      ],
      "text/plain": [
       "<IPython.core.display.Javascript object>"
      ]
     },
     "metadata": {},
     "output_type": "display_data"
    },
    {
     "data": {
      "application/javascript": [
       "require.undef(\"nbextensions/vpython_libraries/glowcomm\");"
      ],
      "text/plain": [
       "<IPython.core.display.Javascript object>"
      ]
     },
     "metadata": {},
     "output_type": "display_data"
    },
    {
     "data": {
      "application/javascript": [
       "require.undef(\"nbextensions/vpython_libraries/jquery-ui.custom.min\");"
      ],
      "text/plain": [
       "<IPython.core.display.Javascript object>"
      ]
     },
     "metadata": {},
     "output_type": "display_data"
    },
    {
     "data": {
      "application/javascript": [
       "require([\"nbextensions/vpython_libraries/glow.min\"], function(){console.log(\"GLOW LOADED\");})"
      ],
      "text/plain": [
       "<IPython.core.display.Javascript object>"
      ]
     },
     "metadata": {},
     "output_type": "display_data"
    },
    {
     "data": {
      "application/javascript": [
       "require([\"nbextensions/vpython_libraries/glowcomm\"], function(){console.log(\"GLOWCOMM LOADED\");})"
      ],
      "text/plain": [
       "<IPython.core.display.Javascript object>"
      ]
     },
     "metadata": {},
     "output_type": "display_data"
    },
    {
     "data": {
      "application/javascript": [
       "require([\"nbextensions/vpython_libraries/jquery-ui.custom.min\"], function(){console.log(\"JQUERY LOADED\");})"
      ],
      "text/plain": [
       "<IPython.core.display.Javascript object>"
      ]
     },
     "metadata": {},
     "output_type": "display_data"
    },
    {
     "data": {
      "text/html": [
       "<div id=\"glowscript\" class=\"glowscript\"></div>"
      ],
      "text/plain": [
       "<IPython.core.display.HTML object>"
      ]
     },
     "metadata": {},
     "output_type": "display_data"
    },
    {
     "data": {
      "application/javascript": [
       "window.__context = { glowscript_container: $(\"#glowscript\").removeAttr(\"id\")}"
      ],
      "text/plain": [
       "<IPython.core.display.Javascript object>"
      ]
     },
     "metadata": {},
     "output_type": "display_data"
    },
    {
     "name": "stdout",
     "output_type": "stream",
     "text": [
      "Beginning parsing ...\n",
      "Parsing done!\n"
     ]
    }
   ],
   "source": [
    "from vpython import *\n",
    "from time import sleep\n",
    "import random\n",
    "from xml.etree.ElementTree import *\n",
    "\n",
    "branches = False\n",
    "\n",
    "class Byekt:\n",
    "    \n",
    "    def __init__(self, position = vector(0, 0, 0), radius_ = 0.01, ID = 0):\n",
    "        self.position = position\n",
    "        self.radius_ = radius_\n",
    "        self.ID = ID\n",
    "        self.cherry = draw_cherry(position, radius_, branches)\n",
    "    \n",
    "    def move_to(self, position):\n",
    "        self.position = position\n",
    "        self.cherry.pos = position\n",
    "#         self.cherry.branch = position\n",
    "    \n",
    "    def where_is(self):\n",
    "        print(str(self.x) + ', ' + str(self.y) + ', ' + str(self.z))\n",
    "    \n",
    "    \n",
    "def get_rand(factor):\n",
    "    \n",
    "    return random.uniform(-factor, factor)\n",
    "\n",
    "\n",
    "def draw_cherry(position, radius_, branch = True):\n",
    "    \n",
    "    cherry = sphere(pos = position, radius = radius_)\n",
    "    \n",
    "    if branch == True:\n",
    "        branch = curve(pos = [(position.x, position.y + radius_/2, position.z),\n",
    "            (position.x + get_rand(radius_), position.y + radius_*0.66, position.z + get_rand(radius_)), \n",
    "            (position.x + get_rand(radius_), position.y + radius_*1.33, position.z + get_rand(radius_)), \n",
    "            (position.x + get_rand(radius_), position.y + radius_*2, position.z + get_rand(radius_))], \n",
    "            radius = radius_*0.1, color = color.green)\n",
    "\n",
    "        cherry.branch = branch\n",
    "        \n",
    "    return cherry\n",
    "    \n",
    "    \n",
    "def load_snapshot(filename = \"snapshots.xml\"):\n",
    "    \n",
    "    snap = untangle.parse(filename)\n",
    "    \n",
    "    byekt_map = {}\n",
    "    \n",
    "    for elem in range(0, len(snap.snapshot.byekt)):\n",
    "        \n",
    "        position = vector(float(snap.snapshot.children[elem]['x']),\n",
    "                          float(snap.snapshot.children[elem]['y']),\n",
    "                          float(snap.snapshot.children[elem]['z']))\n",
    "\n",
    "        \n",
    "        byekt = Byekt(position, float(snap.snapshot.byekt[elem]['r']),\n",
    "                      float(snap.snapshot.byekt[elem]['id']))\n",
    "        \n",
    "        byekt_map[byekt.ID] = byekt\n",
    "        \n",
    "#     for byekt in byekt_map:\n",
    "#         draw_cherry(byekt_map[byekt])\n",
    "        \n",
    "\n",
    "def draw(filename = \"./steps.xml\", speed = 5):\n",
    "    \n",
    "    print(\"Beginning parsing ...\")\n",
    "    xml = iterparse(filename, events=(\"start\", \"end\"))\n",
    "    xml = iter(xml)\n",
    "\n",
    "    event, root = xml.next()\n",
    "    print(\"Parsing done!\")\n",
    "    \n",
    "    byekt_map = {}\n",
    "    \n",
    "    for event, elem in xml:\n",
    "        if event == \"end\":\n",
    "            rate(speed)\n",
    "\n",
    "            if (elem.tag == \"new\"): # Make a new byekt\n",
    "\n",
    "                position = vector(float(elem.attrib['x']),\n",
    "                                  float(elem.attrib['y']),\n",
    "                                  float(elem.attrib['z']))\n",
    "\n",
    "                byekt = Byekt(position, float(elem.attrib['r']), float(elem.attrib['id']))\n",
    "                byekt_map[byekt.ID] = byekt\n",
    "\n",
    "            elif (elem.tag == \"move\"): # Move existing byekt\n",
    "\n",
    "                ID = int(elem.attrib['id'])\n",
    "                byekt = byekt_map[ID]\n",
    "                position = vector(float(elem.attrib['x']),\n",
    "                                  float(elem.attrib['y']),\n",
    "                                  float(elem.attrib['z']))\n",
    "\n",
    "                byekt.move_to(position)\n",
    "            \n",
    "            #root.clear()\n",
    "            \n",
    "# load_snapshot()\n",
    "sphere()\n",
    "sleep(1)\n",
    "draw(\"../steps.xml\", 50)"
   ]
  },
  {
   "cell_type": "code",
   "execution_count": null,
   "metadata": {},
   "outputs": [],
   "source": [
    "from vpython import *\n",
    "from time import sleep\n",
    "\n",
    "ball1 = sphere(pos = vector(0, 0, 1), rad = 1)\n",
    "for i in range(0, 100):\n",
    "    ball1.pos = vector(0, 0 + i, 0)\n",
    "    sleep(0.01)"
   ]
  },
  {
   "cell_type": "code",
   "execution_count": null,
   "metadata": {},
   "outputs": [],
   "source": [
    "from vpython import *\n",
    "from time import sleep\n",
    "import random\n",
    "from xml.etree.ElementTree import *\n",
    "\n",
    "def check(filename = \"./steps.xml\"):\n",
    "    \n",
    "    print \"Beginning parsing ...\"\n",
    "    xml = iterparse(filename, events=(\"start\", \"end\"))\n",
    "    xml = iter(xml)\n",
    "\n",
    "    event, root = xml.next()\n",
    "    print \"Parsing done!\"\n",
    "    \n",
    "    counter = 0\n",
    "    \n",
    "    for event, elem in xml:\n",
    "        if event == \"end\":\n",
    "            if (elem.tag == \"new\"): # Make a new byekt\n",
    "\n",
    "                if not ('id' in elem.attrib):\n",
    "                    print elem\n",
    "                    return\n",
    "                    \n",
    "            elif (ele): # Move existing byekt\n",
    "\n",
    "                if not ('id' in elem.attrib):\n",
    "                    print elem\n",
    "                    return\n",
    "            \n",
    "            counter += 1\n",
    "            #root.clear()\n",
    "            \n",
    "check(\"../steps.xml\")\n",
    "print \"decko...\""
   ]
  },
  {
   "cell_type": "code",
   "execution_count": null,
   "metadata": {},
   "outputs": [],
   "source": []
  }
 ],
 "metadata": {
  "kernelspec": {
   "display_name": "VPython",
   "language": "python",
   "name": "vpython"
  },
  "language_info": {
   "codemirror_mode": {
    "name": "ipython",
    "version": 2
   },
   "file_extension": ".py",
   "mimetype": "text/x-python",
   "name": "python",
   "nbconvert_exporter": "python",
   "pygments_lexer": "ipython2",
   "version": "2.7.14"
  }
 },
 "nbformat": 4,
 "nbformat_minor": 2
}
